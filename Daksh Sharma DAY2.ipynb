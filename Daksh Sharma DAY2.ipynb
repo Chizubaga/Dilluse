{
 "cells": [
  {
   "cell_type": "code",
   "execution_count": null,
   "metadata": {},
   "outputs": [],
   "source": [
    "from tkinter import *\n",
    "root=Tk()\n",
    "root.title('Simple Calculator')\n",
    "mainframe=Frame(root,width=45,bd=10, relief=RIDGE,bg='orange')\n",
    "mainframe.pack()\n",
    "inner=Frame(root,width=45,bd=10,relief=RIDGE,bg='cyan')\n",
    "inner.pack()\n",
    "e=Entry(inner,width=65,borderwidth=5)\n",
    "e.grid(row=0,column=0,columnspan=4,padx=10,pady=1)\n",
    "def onclick(num):\n",
    "    x=e.get()\n",
    "    e.delete(0,END)\n",
    "    e.insert(0,str(x)+str(num))\n",
    "\n",
    "def clear():\n",
    "    e.delete(0,END)\n",
    "\n",
    "def add():\n",
    "    global first,op\n",
    "    op='+'\n",
    "    first=e.get()\n",
    "    e.delete(0,END)\n",
    "\n",
    "def sub():\n",
    "    global first,op\n",
    "    op='-'\n",
    "    first=e.get()\n",
    "    e.delete(0,END)\n",
    "\n",
    "def mul():\n",
    "    global first,op\n",
    "    op='*'\n",
    "    first=e.get()\n",
    "    e.delete(0,END)\n",
    "\n",
    "def div():\n",
    "    global first,op\n",
    "    op='/'\n",
    "    first=e.get()\n",
    "    e.delete(0,END)\n",
    "\n",
    "def equal():\n",
    "    second=e.get()\n",
    "    if op=='+':\n",
    "        result=float(first)+float(second)\n",
    "    elif op=='-':\n",
    "        result=float(first)-float(second)\n",
    "    elif op=='*':\n",
    "        result=float(first)*float(second)\n",
    "    elif op=='/':\n",
    "        result=float(first)/float(second)\n",
    "    e.delete(0,END)\n",
    "    e.insert(0,result)\n",
    "\n",
    "button_1=Button(inner,text='1',padx=30,pady=10,relief=RIDGE,font=15,width=4,command=lambda:onclick(1))\n",
    "\n",
    "button_2=Button(inner,text='2',padx=30,pady=10,relief=RIDGE,font=15,width=4,command=lambda:onclick(2))\n",
    "\n",
    "button_3=Button(inner,text='3',padx=30,pady=10,relief=RIDGE,font=15,width=4,command=lambda:onclick(3))\n",
    "\n",
    "button_4=Button(inner,text='4',padx=30,pady=10,relief=RIDGE,font=15,width=4,command=lambda:onclick(4))\n",
    "\n",
    "button_5=Button(inner,text='5',padx=30,pady=10,relief=RIDGE,font=15,width=4,command=lambda:onclick(5))\n",
    "\n",
    "button_6=Button(inner,text='6',padx=30,pady=10,relief=RIDGE,font=15,width=4,command=lambda:onclick(6))\n",
    "\n",
    "button_7=Button(inner,text='7',padx=30,pady=10,relief=RIDGE,font=15,width=4,command=lambda:onclick(7))\n",
    "\n",
    "button_8=Button(inner,text='8',padx=30,pady=10,relief=RIDGE,font=15,width=4,command=lambda:onclick(8))\n",
    "\n",
    "button_9=Button(inner,text='9',padx=30,pady=10,relief=RIDGE,font=15,width=4,command=lambda:onclick(9))\n",
    "\n",
    "button_0=Button(inner,text='0',padx=30,pady=10,relief=RIDGE,font=15,width=4,command=lambda:onclick(0))\n",
    "\n",
    "button_add=Button(inner,text='+',padx=30,pady=10,relief=RIDGE,font=15,width=4,command=add)\n",
    "button_sub=Button(inner,text='-',padx=30,pady=10,relief=RIDGE,font=15,width=4,command=sub)\n",
    "button_mul=Button(inner,text='*',padx=30,pady=10,relief=RIDGE,font=15,width=4,command=mul)\n",
    "button_div=Button(inner,text='/',padx=30,pady=10,relief=RIDGE,font=15,width=4,command=div)\n",
    "button_equal=Button(inner,text='=',padx=30,pady=10,relief=RIDGE,font=15,width=4,command=equal)\n",
    "button_clear=Button(inner,text='C',padx=30,pady=10,relief=RIDGE,font=15,width=4,command=clear)\n",
    "\n",
    "button_1.grid(row=3,column=0)\n",
    "button_2.grid(row=3,column=1)\n",
    "button_3.grid(row=3,column=2)\n",
    "button_4.grid(row=2,column=0)\n",
    "button_5.grid(row=2,column=1)\n",
    "button_6.grid(row=2,column=2)\n",
    "button_7.grid(row=1,column=0)\n",
    "button_8.grid(row=1,column=1)\n",
    "button_9.grid(row=1,column=2)\n",
    "button_0.grid(row=4,column=0)\n",
    "button_add.grid(row=1,column=3)\n",
    "button_sub.grid(row=2,column=3)\n",
    "button_mul.grid(row=3,column=3)\n",
    "button_div.grid(row=4,column=3)\n",
    "button_equal.grid(row=4,column=2)\n",
    "button_clear.grid(row=4,column=1)\n",
    "root.mainloop()"
   ]
  },
  {
   "cell_type": "code",
   "execution_count": 1,
   "metadata": {},
   "outputs": [
    {
     "name": "stdout",
     "output_type": "stream",
     "text": [
      "4.949604272842407\n"
     ]
    }
   ],
   "source": [
    "a=[i for i in range(10000000)]\n",
    "b=a=[i for i in range(10000000,20000000)]\n",
    "\n",
    "c=[]\n",
    "import time\n",
    "\n",
    "start =time.time()\n",
    "for i in range(len(a)):\n",
    "    c.append(a[i]+b[i])\n",
    "print(time.time()-start)"
   ]
  },
  {
   "cell_type": "code",
   "execution_count": 2,
   "metadata": {},
   "outputs": [
    {
     "name": "stdout",
     "output_type": "stream",
     "text": [
      "0.2638378143310547\n"
     ]
    }
   ],
   "source": [
    "import numpy as np\n",
    "a = np.arange(10000000)\n",
    "b = np.arange(10000000,20000000)\n",
    "start =time.time()\n",
    "c=a+b\n",
    "print(time.time()-start)"
   ]
  },
  {
   "cell_type": "code",
   "execution_count": 1,
   "metadata": {},
   "outputs": [
    {
     "data": {
      "text/plain": [
       "18.76002606143414"
      ]
     },
     "execution_count": 1,
     "metadata": {},
     "output_type": "execute_result"
    }
   ],
   "source": [
    "4.949604272842407/0.2638378143310547"
   ]
  },
  {
   "cell_type": "code",
   "execution_count": 2,
   "metadata": {},
   "outputs": [
    {
     "data": {
      "text/plain": [
       "800984"
      ]
     },
     "execution_count": 2,
     "metadata": {},
     "output_type": "execute_result"
    }
   ],
   "source": [
    "a=[i for i in range(100000)]\n",
    "import sys\n",
    "\n",
    "sys.getsizeof(a)"
   ]
  },
  {
   "cell_type": "code",
   "execution_count": 4,
   "metadata": {},
   "outputs": [
    {
     "data": {
      "text/plain": [
       "200104"
      ]
     },
     "execution_count": 4,
     "metadata": {},
     "output_type": "execute_result"
    }
   ],
   "source": [
    "import numpy as np\n",
    "a=np.arange(100000,dtype=np.int16)\n",
    "sys.getsizeof(a)"
   ]
  },
  {
   "cell_type": "code",
   "execution_count": null,
   "metadata": {},
   "outputs": [],
   "source": [
    "a=np.arange(100000)"
   ]
  }
 ],
 "metadata": {
  "kernelspec": {
   "display_name": "Python 3",
   "language": "python",
   "name": "python3"
  },
  "language_info": {
   "codemirror_mode": {
    "name": "ipython",
    "version": 3
   },
   "file_extension": ".py",
   "mimetype": "text/x-python",
   "name": "python",
   "nbconvert_exporter": "python",
   "pygments_lexer": "ipython3",
   "version": "3.9.13"
  },
  "orig_nbformat": 4,
  "vscode": {
   "interpreter": {
    "hash": "9bf8e5f6ae5a440c6649c43ab49956741af2ee52909e232ddcd4abcc58504c21"
   }
  }
 },
 "nbformat": 4,
 "nbformat_minor": 2
}
